{
 "cells": [
  {
   "cell_type": "code",
   "execution_count": null,
   "id": "6a202e19-2f96-4fd4-aa2f-4af36deef272",
   "metadata": {},
   "outputs": [],
   "source": [
    "%matplotlib widget\n",
    "\n",
    "import pandas as pd\n",
    "import numpy as np\n",
    "import matplotlib.pyplot as plt\n",
    "import matplotlib.dates as mdates"
   ]
  },
  {
   "cell_type": "code",
   "execution_count": null,
   "id": "b6795f0b-3157-49b3-9ff3-7f10cb973939",
   "metadata": {},
   "outputs": [],
   "source": [
    "data_url = \"https://raw.githubusercontent.com/iris-hep/analysis-community-summary/time-series/summary-time-series.csv\"\n",
    "# time_series_df = pd.read_csv(\"summary-time-series.csv\", parse_dates=True)\n",
    "time_series_df = pd.read_csv(data_url, parse_dates=True)\n",
    "time_series_df"
   ]
  },
  {
   "cell_type": "code",
   "execution_count": null,
   "id": "0c441815-61c5-48a9-a19d-ea0b48475cf5",
   "metadata": {},
   "outputs": [],
   "source": [
    "def project_timeseries(df, value, **kwargs):\n",
    "    dates = df[\"date\"].unique()\n",
    "    # fig, ax = plt.subplots()\n",
    "    scale_factor = 2.5\n",
    "    fig, (ax, legend_ax) = plt.subplots(\n",
    "        ncols=2,\n",
    "        figsize=(6 * scale_factor, 4 * scale_factor),\n",
    "        gridspec_kw={\"width_ratios\": [4, 1]},\n",
    "    )\n",
    "\n",
    "    time_fmt = mdates.WeekdayLocator(interval=1)\n",
    "    ax.xaxis.set_major_locator(time_fmt)\n",
    "\n",
    "    projects = time_series_df.sort_values(value, ascending=False)[\n",
    "        \"repositories\"\n",
    "    ].unique()\n",
    "    # print(projects)\n",
    "    exclude_list = kwargs.pop(\"exclude\", None)\n",
    "    if exclude_list:\n",
    "        for project in exclude_list:\n",
    "            projects = np.delete(projects, np.where(projects == project))\n",
    "\n",
    "    for idx, project in enumerate(projects):\n",
    "        selection = df[\"repositories\"] == project\n",
    "        plot_kwargs = {\"color\": None if idx < 15 else \"black\"}\n",
    "        ax.scatter(\n",
    "            df[selection][\"date\"], df[selection][value], label=project, **plot_kwargs\n",
    "        )\n",
    "\n",
    "    handles, labels = ax.get_legend_handles_labels()\n",
    "    legend_ax.legend(handles, labels, borderaxespad=0)\n",
    "    legend_ax.axis(\"off\")\n",
    "\n",
    "    # ax.legend(loc=\"best\")\n",
    "    xlabel = kwargs.pop(\"xlabel\", \"Date\")\n",
    "    ax.set_xlabel(xlabel, size=14)\n",
    "    ylabel = kwargs.pop(\"ylabel\", f\"Number of {value}\")\n",
    "    ax.set_ylabel(ylabel, size=14)\n",
    "\n",
    "    fig.tight_layout()\n",
    "    fig.savefig(f\"time_series_{value}.png\", facecolor=\"white\")"
   ]
  },
  {
   "cell_type": "code",
   "execution_count": null,
   "id": "9117df19-2f86-4c43-9c52-b770043db4de",
   "metadata": {},
   "outputs": [],
   "source": [
    "exclude_list = [\n",
    "    \"All IRIS-HEP Analysis Systems\",\n",
    "    \"root-project/root\",\n",
    "    \"alexander-held/cabinetry\",\n",
    "]\n",
    "project_timeseries(time_series_df, \"stars\", exclude=exclude_list)\n",
    "project_timeseries(time_series_df, \"forks\", exclude=exclude_list)\n",
    "project_timeseries(time_series_df, \"watchers\", exclude=exclude_list)"
   ]
  },
  {
   "cell_type": "code",
   "execution_count": null,
   "id": "a3def533-ad5e-45e8-b624-6b44ca0d9ad6",
   "metadata": {},
   "outputs": [],
   "source": [
    "# # https://stackoverflow.com/questions/4700614/how-to-put-the-legend-out-of-the-plot\n",
    "# x = np.linspace(0,2*np.pi)\n",
    "# y = np.sin(x)\n",
    "\n",
    "# # fig, (ax,lax) = plt.subplots(ncols=2, gridspec_kw={\"width_ratios\":[4,1]})\n",
    "# fig, (ax,lax) = plt.subplots(ncols=2, gridspec_kw={\"width_ratios\":[6,1]})\n",
    "# ax.plot(x,y, label=\"y=sin(x)\")\n",
    "\n",
    "# h,l = ax.get_legend_handles_labels()\n",
    "# lax.legend(h,l, borderaxespad=0)\n",
    "# lax.axis(\"off\")\n",
    "\n",
    "# fig.tight_layout()"
   ]
  }
 ],
 "metadata": {
  "kernelspec": {
   "display_name": "Python 3 (ipykernel)",
   "language": "python",
   "name": "python3"
  },
  "language_info": {
   "codemirror_mode": {
    "name": "ipython",
    "version": 3
   },
   "file_extension": ".py",
   "mimetype": "text/x-python",
   "name": "python",
   "nbconvert_exporter": "python",
   "pygments_lexer": "ipython3",
   "version": "3.9.6"
  }
 },
 "nbformat": 4,
 "nbformat_minor": 5
}
