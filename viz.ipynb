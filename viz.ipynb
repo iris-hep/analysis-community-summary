{
 "cells": [
  {
   "cell_type": "code",
   "execution_count": null,
   "id": "6a202e19-2f96-4fd4-aa2f-4af36deef272",
   "metadata": {},
   "outputs": [],
   "source": [
    "import pandas as pd\n",
    "import numpy as np\n",
    "import matplotlib.pyplot as plt"
   ]
  },
  {
   "cell_type": "code",
   "execution_count": null,
   "id": "b6795f0b-3157-49b3-9ff3-7f10cb973939",
   "metadata": {},
   "outputs": [],
   "source": [
    "data_url = \"https://raw.githubusercontent.com/iris-hep/analysis-community-summary/time-series/summary-time-series.csv\"\n",
    "# time_series_df = pd.read_csv(\"summary-time-series.csv\", parse_dates=True)\n",
    "time_series_df = pd.read_csv(data_url, parse_dates=True)\n",
    "time_series_df"
   ]
  },
  {
   "cell_type": "code",
   "execution_count": null,
   "id": "c91e53b7-7b25-48a1-802d-8adb03cfcdaf",
   "metadata": {},
   "outputs": [],
   "source": [
    "# time_series_df[\"stars\"].plot()\n",
    "dates = time_series_df[\"date\"].unique()\n",
    "# ordered by number of stars\n",
    "projects = time_series_df.sort_values(\"stars\", ascending=False)[\"repositories\"].unique()\n",
    "\n",
    "print(projects)\n",
    "exclude_list = [\n",
    "    \"All IRIS-HEP Analysis Systems\",\n",
    "    \"root-project/root\",\n",
    "    \"alexander-held/cabinetry\",\n",
    "]\n",
    "for project in exclude_list:\n",
    "    projects = np.delete(projects, np.where(projects == project))\n",
    "\n",
    "# fig, ax = plt.subplots()\n",
    "scale_factor = 2.5\n",
    "fig, (ax, legend_ax) = plt.subplots(\n",
    "    ncols=2,\n",
    "    figsize=(6 * scale_factor, 4 * scale_factor),\n",
    "    gridspec_kw={\"width_ratios\": [4, 1]},\n",
    ")\n",
    "\n",
    "# for project in projects:\n",
    "#     selection = (time_series_df[\"repositories\"] == project)\n",
    "#     ax.scatter(time_series_df[selection][\"date\"], time_series_df[selection][\"stars\"], label=project)\n",
    "\n",
    "for idx, project in enumerate(projects):\n",
    "    selection = time_series_df[\"repositories\"] == project\n",
    "    plot_kwargs = {\"color\": None if idx < 15 else \"black\"}\n",
    "    ax.scatter(\n",
    "        time_series_df[selection][\"date\"],\n",
    "        time_series_df[selection][\"stars\"],\n",
    "        label=project,\n",
    "        **plot_kwargs\n",
    "    )\n",
    "\n",
    "handles, labels = ax.get_legend_handles_labels()\n",
    "legend_ax.legend(handles, labels, borderaxespad=0)\n",
    "legend_ax.axis(\"off\")\n",
    "\n",
    "# ax.legend(loc=\"best\")\n",
    "ax.set_xlabel(\"Date\", size=14)\n",
    "ax.set_ylabel(\"Number of stars\", size=14)\n",
    "# ax.set_yscale(\"log\")\n",
    "\n",
    "fig.tight_layout()\n",
    "fig.savefig(\"stars_time_series.png\")"
   ]
  },
  {
   "cell_type": "code",
   "execution_count": null,
   "id": "a3def533-ad5e-45e8-b624-6b44ca0d9ad6",
   "metadata": {},
   "outputs": [],
   "source": [
    "# # https://stackoverflow.com/questions/4700614/how-to-put-the-legend-out-of-the-plot\n",
    "# x = np.linspace(0,2*np.pi)\n",
    "# y = np.sin(x)\n",
    "\n",
    "# # fig, (ax,lax) = plt.subplots(ncols=2, gridspec_kw={\"width_ratios\":[4,1]})\n",
    "# fig, (ax,lax) = plt.subplots(ncols=2, gridspec_kw={\"width_ratios\":[6,1]})\n",
    "# ax.plot(x,y, label=\"y=sin(x)\")\n",
    "\n",
    "# h,l = ax.get_legend_handles_labels()\n",
    "# lax.legend(h,l, borderaxespad=0)\n",
    "# lax.axis(\"off\")\n",
    "\n",
    "# fig.tight_layout()"
   ]
  }
 ],
 "metadata": {
  "kernelspec": {
   "display_name": "Python 3 (ipykernel)",
   "language": "python",
   "name": "python3"
  },
  "language_info": {
   "codemirror_mode": {
    "name": "ipython",
    "version": 3
   },
   "file_extension": ".py",
   "mimetype": "text/x-python",
   "name": "python",
   "nbconvert_exporter": "python",
   "pygments_lexer": "ipython3",
   "version": "3.9.6"
  }
 },
 "nbformat": 4,
 "nbformat_minor": 5
}
