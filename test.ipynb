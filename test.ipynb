{
 "cells": [
  {
   "cell_type": "code",
   "execution_count": null,
   "id": "976c0226-b442-4dad-b311-435d00d549a6",
   "metadata": {},
   "outputs": [],
   "source": [
    "%matplotlib widget\n",
    "\n",
    "import pandas as pd\n",
    "import numpy as np\n",
    "import matplotlib.pyplot as plt\n",
    "import matplotlib.dates as mdates\n",
    "import altair as alt"
   ]
  },
  {
   "cell_type": "code",
   "execution_count": null,
   "id": "5ad9791e-e353-4109-9eca-a8fde883ce79",
   "metadata": {},
   "outputs": [],
   "source": [
    "data_url = \"https://raw.githubusercontent.com/iris-hep/analysis-community-summary/time-series/summary-time-series.csv\"\n",
    "# time_series_df = pd.read_csv(\"summary-time-series.csv\", parse_dates=True)\n",
    "time_series_df = pd.read_csv(data_url, parse_dates=True)\n",
    "\n",
    "exclude_list = [\n",
    "    \"All IRIS-HEP Analysis Systems\",\n",
    "    \"root-project/root\",\n",
    "    \"alexander-held/cabinetry\",\n",
    "]\n",
    "\n",
    "for project in exclude_list:\n",
    "    time_series_df = time_series_df[time_series_df[\"repositories\"] != project]\n",
    "\n",
    "time_series_df"
   ]
  },
  {
   "cell_type": "code",
   "execution_count": null,
   "id": "d38aedfc-15d7-4e72-8bb9-406ab6384f8d",
   "metadata": {},
   "outputs": [],
   "source": [
    "# scale_factor = 2.5\n",
    "# fig, (ax, legend_ax) = plt.subplots(\n",
    "#     ncols=2,\n",
    "#     figsize=(6 * scale_factor, 4 * scale_factor),\n",
    "#     gridspec_kw={\"width_ratios\": [4, 1]},\n",
    "# )"
   ]
  },
  {
   "cell_type": "code",
   "execution_count": null,
   "id": "1507ee8f-ae2b-423d-94a1-2af9f7fcd34c",
   "metadata": {},
   "outputs": [],
   "source": [
    "stars_plot = (\n",
    "    alt.Chart(time_series_df.sort_values(\"stars\", ascending=False))\n",
    "    .mark_line()\n",
    "    .encode(\n",
    "        x=alt.X(\"date:T\", axis=alt.Axis(title=\"Date\", format=(\"%Y-%m-%d\"))),\n",
    "        y=\"stars:Q\",\n",
    "        color=alt.Color(\"repositories\", sort=[\"stars\"]),\n",
    "        tooltip=[\"stars\", \"date\", \"repositories\"],\n",
    "    )\n",
    "    .interactive()\n",
    "    .properties(width=600, height=400)\n",
    ")\n",
    "stars_plot"
   ]
  },
  {
   "cell_type": "code",
   "execution_count": null,
   "id": "19bdd0d8-a8b3-4a6c-a47e-2db4ce674b40",
   "metadata": {},
   "outputs": [],
   "source": [
    "dir(stars_plot)"
   ]
  },
  {
   "cell_type": "code",
   "execution_count": null,
   "id": "2dece3d1-3e9f-4594-a740-53ea1ae81f3c",
   "metadata": {},
   "outputs": [],
   "source": [
    "import altair as alt\n",
    "from vega_datasets import data\n",
    "\n",
    "source = data.stocks()\n",
    "\n",
    "lines = alt.Chart(source).mark_line().encode(x=\"date\", y=\"price\", color=\"symbol\")\n",
    "\n",
    "lines"
   ]
  },
  {
   "cell_type": "code",
   "execution_count": null,
   "id": "7f658500-3417-4e9b-883a-cdd29f993ea5",
   "metadata": {},
   "outputs": [],
   "source": [
    "source"
   ]
  }
 ],
 "metadata": {
  "kernelspec": {
   "display_name": "Python 3 (ipykernel)",
   "language": "python",
   "name": "python3"
  },
  "language_info": {
   "codemirror_mode": {
    "name": "ipython",
    "version": 3
   },
   "file_extension": ".py",
   "mimetype": "text/x-python",
   "name": "python",
   "nbconvert_exporter": "python",
   "pygments_lexer": "ipython3",
   "version": "3.9.6"
  }
 },
 "nbformat": 4,
 "nbformat_minor": 5
}
